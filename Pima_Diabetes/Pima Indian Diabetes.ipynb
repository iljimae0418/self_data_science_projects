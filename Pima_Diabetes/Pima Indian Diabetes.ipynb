{
 "cells": [
  {
   "cell_type": "markdown",
   "metadata": {},
   "source": [
    "# Looking at the Pima Indians Diabetes Data \n",
    "\n",
    "The dataset is available here: https://www.kaggle.com/uciml/pima-indians-diabetes-database \n",
    "The objective of the dataset is to diagnostically predict whether or not a patient has diabetes, based on certain diagnostic measurements included in the dataset. Our primary objective here is to experiment with the metrics precision, recall, F1 and AUC score.  "
   ]
  },
  {
   "cell_type": "code",
   "execution_count": 38,
   "metadata": {},
   "outputs": [
    {
     "name": "stdout",
     "output_type": "stream",
     "text": [
      "0    500\n",
      "1    268\n",
      "Name: Outcome, dtype: int64\n"
     ]
    },
    {
     "data": {
      "text/html": [
       "<div>\n",
       "<style scoped>\n",
       "    .dataframe tbody tr th:only-of-type {\n",
       "        vertical-align: middle;\n",
       "    }\n",
       "\n",
       "    .dataframe tbody tr th {\n",
       "        vertical-align: top;\n",
       "    }\n",
       "\n",
       "    .dataframe thead th {\n",
       "        text-align: right;\n",
       "    }\n",
       "</style>\n",
       "<table border=\"1\" class=\"dataframe\">\n",
       "  <thead>\n",
       "    <tr style=\"text-align: right;\">\n",
       "      <th></th>\n",
       "      <th>Pregnancies</th>\n",
       "      <th>Glucose</th>\n",
       "      <th>BloodPressure</th>\n",
       "      <th>SkinThickness</th>\n",
       "      <th>Insulin</th>\n",
       "      <th>BMI</th>\n",
       "      <th>DiabetesPedigreeFunction</th>\n",
       "      <th>Age</th>\n",
       "      <th>Outcome</th>\n",
       "    </tr>\n",
       "  </thead>\n",
       "  <tbody>\n",
       "    <tr>\n",
       "      <th>0</th>\n",
       "      <td>6</td>\n",
       "      <td>148</td>\n",
       "      <td>72</td>\n",
       "      <td>35</td>\n",
       "      <td>0</td>\n",
       "      <td>33.6</td>\n",
       "      <td>0.627</td>\n",
       "      <td>50</td>\n",
       "      <td>1</td>\n",
       "    </tr>\n",
       "    <tr>\n",
       "      <th>1</th>\n",
       "      <td>1</td>\n",
       "      <td>85</td>\n",
       "      <td>66</td>\n",
       "      <td>29</td>\n",
       "      <td>0</td>\n",
       "      <td>26.6</td>\n",
       "      <td>0.351</td>\n",
       "      <td>31</td>\n",
       "      <td>0</td>\n",
       "    </tr>\n",
       "    <tr>\n",
       "      <th>2</th>\n",
       "      <td>8</td>\n",
       "      <td>183</td>\n",
       "      <td>64</td>\n",
       "      <td>0</td>\n",
       "      <td>0</td>\n",
       "      <td>23.3</td>\n",
       "      <td>0.672</td>\n",
       "      <td>32</td>\n",
       "      <td>1</td>\n",
       "    </tr>\n",
       "    <tr>\n",
       "      <th>3</th>\n",
       "      <td>1</td>\n",
       "      <td>89</td>\n",
       "      <td>66</td>\n",
       "      <td>23</td>\n",
       "      <td>94</td>\n",
       "      <td>28.1</td>\n",
       "      <td>0.167</td>\n",
       "      <td>21</td>\n",
       "      <td>0</td>\n",
       "    </tr>\n",
       "    <tr>\n",
       "      <th>4</th>\n",
       "      <td>0</td>\n",
       "      <td>137</td>\n",
       "      <td>40</td>\n",
       "      <td>35</td>\n",
       "      <td>168</td>\n",
       "      <td>43.1</td>\n",
       "      <td>2.288</td>\n",
       "      <td>33</td>\n",
       "      <td>1</td>\n",
       "    </tr>\n",
       "    <tr>\n",
       "      <th>5</th>\n",
       "      <td>5</td>\n",
       "      <td>116</td>\n",
       "      <td>74</td>\n",
       "      <td>0</td>\n",
       "      <td>0</td>\n",
       "      <td>25.6</td>\n",
       "      <td>0.201</td>\n",
       "      <td>30</td>\n",
       "      <td>0</td>\n",
       "    </tr>\n",
       "    <tr>\n",
       "      <th>6</th>\n",
       "      <td>3</td>\n",
       "      <td>78</td>\n",
       "      <td>50</td>\n",
       "      <td>32</td>\n",
       "      <td>88</td>\n",
       "      <td>31.0</td>\n",
       "      <td>0.248</td>\n",
       "      <td>26</td>\n",
       "      <td>1</td>\n",
       "    </tr>\n",
       "    <tr>\n",
       "      <th>7</th>\n",
       "      <td>10</td>\n",
       "      <td>115</td>\n",
       "      <td>0</td>\n",
       "      <td>0</td>\n",
       "      <td>0</td>\n",
       "      <td>35.3</td>\n",
       "      <td>0.134</td>\n",
       "      <td>29</td>\n",
       "      <td>0</td>\n",
       "    </tr>\n",
       "    <tr>\n",
       "      <th>8</th>\n",
       "      <td>2</td>\n",
       "      <td>197</td>\n",
       "      <td>70</td>\n",
       "      <td>45</td>\n",
       "      <td>543</td>\n",
       "      <td>30.5</td>\n",
       "      <td>0.158</td>\n",
       "      <td>53</td>\n",
       "      <td>1</td>\n",
       "    </tr>\n",
       "    <tr>\n",
       "      <th>9</th>\n",
       "      <td>8</td>\n",
       "      <td>125</td>\n",
       "      <td>96</td>\n",
       "      <td>0</td>\n",
       "      <td>0</td>\n",
       "      <td>0.0</td>\n",
       "      <td>0.232</td>\n",
       "      <td>54</td>\n",
       "      <td>1</td>\n",
       "    </tr>\n",
       "  </tbody>\n",
       "</table>\n",
       "</div>"
      ],
      "text/plain": [
       "   Pregnancies  Glucose  BloodPressure  SkinThickness  Insulin   BMI  \\\n",
       "0            6      148             72             35        0  33.6   \n",
       "1            1       85             66             29        0  26.6   \n",
       "2            8      183             64              0        0  23.3   \n",
       "3            1       89             66             23       94  28.1   \n",
       "4            0      137             40             35      168  43.1   \n",
       "5            5      116             74              0        0  25.6   \n",
       "6            3       78             50             32       88  31.0   \n",
       "7           10      115              0              0        0  35.3   \n",
       "8            2      197             70             45      543  30.5   \n",
       "9            8      125             96              0        0   0.0   \n",
       "\n",
       "   DiabetesPedigreeFunction  Age  Outcome  \n",
       "0                     0.627   50        1  \n",
       "1                     0.351   31        0  \n",
       "2                     0.672   32        1  \n",
       "3                     0.167   21        0  \n",
       "4                     2.288   33        1  \n",
       "5                     0.201   30        0  \n",
       "6                     0.248   26        1  \n",
       "7                     0.134   29        0  \n",
       "8                     0.158   53        1  \n",
       "9                     0.232   54        1  "
      ]
     },
     "execution_count": 38,
     "metadata": {},
     "output_type": "execute_result"
    }
   ],
   "source": [
    "import numpy as np \n",
    "import pandas as pd \n",
    "import matplotlib.pyplot as plt \n",
    "\n",
    "from sklearn.model_selection import train_test_split \n",
    "from sklearn.metrics import accuracy_score,precision_score,recall_score,roc_auc_score \n",
    "from sklearn.metrics import f1_score, confusion_matrix, precision_recall_curve, roc_curve \n",
    "from sklearn.preprocessing import StandardScaler, Binarizer\n",
    "from sklearn.linear_model import LogisticRegression \n",
    "\n",
    "diabetes_data = pd.read_csv('diabetes.csv') \n",
    "print(diabetes_data['Outcome'].value_counts()) \n",
    "diabetes_data.head(10)"
   ]
  },
  {
   "cell_type": "markdown",
   "metadata": {},
   "source": [
    "From the data we see that there are 500 Negative and 268 Positive outcomes. "
   ]
  },
  {
   "cell_type": "code",
   "execution_count": 3,
   "metadata": {},
   "outputs": [
    {
     "name": "stdout",
     "output_type": "stream",
     "text": [
      "<class 'pandas.core.frame.DataFrame'>\n",
      "RangeIndex: 768 entries, 0 to 767\n",
      "Data columns (total 9 columns):\n",
      "Pregnancies                 768 non-null int64\n",
      "Glucose                     768 non-null int64\n",
      "BloodPressure               768 non-null int64\n",
      "SkinThickness               768 non-null int64\n",
      "Insulin                     768 non-null int64\n",
      "BMI                         768 non-null float64\n",
      "DiabetesPedigreeFunction    768 non-null float64\n",
      "Age                         768 non-null int64\n",
      "Outcome                     768 non-null int64\n",
      "dtypes: float64(2), int64(7)\n",
      "memory usage: 54.1 KB\n"
     ]
    }
   ],
   "source": [
    "diabetes_data.info() "
   ]
  },
  {
   "cell_type": "markdown",
   "metadata": {},
   "source": [
    "It seems like there are no NULL values, and all the features are numbers (no categorical features). I guess we do not need any feature encodings. "
   ]
  },
  {
   "cell_type": "code",
   "execution_count": 7,
   "metadata": {},
   "outputs": [],
   "source": [
    "def get_eval(Y_test,Pred): \n",
    "    confusion = confusion_matrix(Y_test,Pred) \n",
    "    accuracy = accuracy_score(Y_test,Pred) \n",
    "    precision = precision_score(Y_test,Pred) \n",
    "    recall = recall_score(Y_test,Pred) \n",
    "    f1 = f1_score(Y_test,Pred) \n",
    "    roc_score = roc_auc_score(Y_test,Pred) \n",
    "    print(\"Accuracy:{}, Precision:{}, Recall:{}, F1:{}, ROC-AUC:{}\".format(accuracy,precision,recall,f1,roc_score))"
   ]
  },
  {
   "cell_type": "code",
   "execution_count": 17,
   "metadata": {},
   "outputs": [
    {
     "name": "stdout",
     "output_type": "stream",
     "text": [
      "Accuracy:0.8051948051948052, Precision:0.75, Recall:0.6666666666666666, F1:0.7058823529411765, ROC-AUC:0.7733333333333333\n"
     ]
    }
   ],
   "source": [
    "# split the train and test data\n",
    "X = diabetes_data.iloc[:,:-1] # everything except the last column \n",
    "Y = diabetes_data.iloc[:,-1] \n",
    "X_train,X_test,Y_train,Y_test = train_test_split(X,Y,test_size=0.2,random_state=200,stratify=Y) \n",
    "\n",
    "logreg = LogisticRegression(max_iter=1000) \n",
    "logreg.fit(X_train,Y_train) \n",
    "prediction = logreg.predict(X_test) \n",
    "get_eval(Y_test,prediction)"
   ]
  },
  {
   "cell_type": "markdown",
   "metadata": {},
   "source": [
    "We have an accuracy of 80.5% and recall of 66.6%. Because 65% of the data are negative, we place more focus on improving recall (less false negatives). Also, recall might be a bit more important in this case because it would be worse to classify a diabetes positive patient as negative than a diabetes negative patient as positive. "
   ]
  },
  {
   "cell_type": "code",
   "execution_count": 22,
   "metadata": {},
   "outputs": [
    {
     "data": {
      "image/png": "[encoded data removed]",
      "text/plain": [
       "<Figure size 576x432 with 1 Axes>"
      ]
     },
     "metadata": {
      "needs_background": "light"
     },
     "output_type": "display_data"
    }
   ],
   "source": [
    "# get probabilities that we will predict positive \n",
    "pred_prob_c1 = logreg.predict_proba(X_test)[:,1] \n",
    "\n",
    "def precision_recall_curve_plot(Y_test,Prob): \n",
    "    precisions,recalls,thresholds = precision_recall_curve(Y_test,Prob) \n",
    "    plt.figure(figsize=(8,6))\n",
    "    threshold_boundary = thresholds.shape[0]  \n",
    "    plt.plot(thresholds,precisions[0:threshold_boundary],linestyle=\"--\",label='precision')\n",
    "    plt.plot(thresholds,recalls[0:threshold_boundary],label='recall') \n",
    "    start,end = plt.xlim() \n",
    "    plt.xticks(np.round(np.arange(start,end,0.1),2)) \n",
    "    plt.xlabel('Threshold') \n",
    "    plt.ylabel('Precision and Recall') \n",
    "    plt.legend() \n",
    "    plt.grid() \n",
    "    plt.show() \n",
    "\n",
    "precision_recall_curve_plot(Y_test,pred_prob_c1)"
   ]
  },
  {
   "cell_type": "markdown",
   "metadata": {},
   "source": [
    "From the plot, we see that if we decrease the threshold (from 0.5) to 0.43, we will get a good balance of precision and recall. However, both these values seem to be less than 70%. Let us inspect the data again and see if we can improve these metrics. "
   ]
  },
  {
   "cell_type": "code",
   "execution_count": 23,
   "metadata": {},
   "outputs": [
    {
     "data": {
      "text/html": [
       "<div>\n",
       "<style scoped>\n",
       "    .dataframe tbody tr th:only-of-type {\n",
       "        vertical-align: middle;\n",
       "    }\n",
       "\n",
       "    .dataframe tbody tr th {\n",
       "        vertical-align: top;\n",
       "    }\n",
       "\n",
       "    .dataframe thead th {\n",
       "        text-align: right;\n",
       "    }\n",
       "</style>\n",
       "<table border=\"1\" class=\"dataframe\">\n",
       "  <thead>\n",
       "    <tr style=\"text-align: right;\">\n",
       "      <th></th>\n",
       "      <th>Pregnancies</th>\n",
       "      <th>Glucose</th>\n",
       "      <th>BloodPressure</th>\n",
       "      <th>SkinThickness</th>\n",
       "      <th>Insulin</th>\n",
       "      <th>BMI</th>\n",
       "      <th>DiabetesPedigreeFunction</th>\n",
       "      <th>Age</th>\n",
       "      <th>Outcome</th>\n",
       "    </tr>\n",
       "  </thead>\n",
       "  <tbody>\n",
       "    <tr>\n",
       "      <th>count</th>\n",
       "      <td>768.000000</td>\n",
       "      <td>768.000000</td>\n",
       "      <td>768.000000</td>\n",
       "      <td>768.000000</td>\n",
       "      <td>768.000000</td>\n",
       "      <td>768.000000</td>\n",
       "      <td>768.000000</td>\n",
       "      <td>768.000000</td>\n",
       "      <td>768.000000</td>\n",
       "    </tr>\n",
       "    <tr>\n",
       "      <th>mean</th>\n",
       "      <td>3.845052</td>\n",
       "      <td>120.894531</td>\n",
       "      <td>69.105469</td>\n",
       "      <td>20.536458</td>\n",
       "      <td>79.799479</td>\n",
       "      <td>31.992578</td>\n",
       "      <td>0.471876</td>\n",
       "      <td>33.240885</td>\n",
       "      <td>0.348958</td>\n",
       "    </tr>\n",
       "    <tr>\n",
       "      <th>std</th>\n",
       "      <td>3.369578</td>\n",
       "      <td>31.972618</td>\n",
       "      <td>19.355807</td>\n",
       "      <td>15.952218</td>\n",
       "      <td>115.244002</td>\n",
       "      <td>7.884160</td>\n",
       "      <td>0.331329</td>\n",
       "      <td>11.760232</td>\n",
       "      <td>0.476951</td>\n",
       "    </tr>\n",
       "    <tr>\n",
       "      <th>min</th>\n",
       "      <td>0.000000</td>\n",
       "      <td>0.000000</td>\n",
       "      <td>0.000000</td>\n",
       "      <td>0.000000</td>\n",
       "      <td>0.000000</td>\n",
       "      <td>0.000000</td>\n",
       "      <td>0.078000</td>\n",
       "      <td>21.000000</td>\n",
       "      <td>0.000000</td>\n",
       "    </tr>\n",
       "    <tr>\n",
       "      <th>25%</th>\n",
       "      <td>1.000000</td>\n",
       "      <td>99.000000</td>\n",
       "      <td>62.000000</td>\n",
       "      <td>0.000000</td>\n",
       "      <td>0.000000</td>\n",
       "      <td>27.300000</td>\n",
       "      <td>0.243750</td>\n",
       "      <td>24.000000</td>\n",
       "      <td>0.000000</td>\n",
       "    </tr>\n",
       "    <tr>\n",
       "      <th>50%</th>\n",
       "      <td>3.000000</td>\n",
       "      <td>117.000000</td>\n",
       "      <td>72.000000</td>\n",
       "      <td>23.000000</td>\n",
       "      <td>30.500000</td>\n",
       "      <td>32.000000</td>\n",
       "      <td>0.372500</td>\n",
       "      <td>29.000000</td>\n",
       "      <td>0.000000</td>\n",
       "    </tr>\n",
       "    <tr>\n",
       "      <th>75%</th>\n",
       "      <td>6.000000</td>\n",
       "      <td>140.250000</td>\n",
       "      <td>80.000000</td>\n",
       "      <td>32.000000</td>\n",
       "      <td>127.250000</td>\n",
       "      <td>36.600000</td>\n",
       "      <td>0.626250</td>\n",
       "      <td>41.000000</td>\n",
       "      <td>1.000000</td>\n",
       "    </tr>\n",
       "    <tr>\n",
       "      <th>max</th>\n",
       "      <td>17.000000</td>\n",
       "      <td>199.000000</td>\n",
       "      <td>122.000000</td>\n",
       "      <td>99.000000</td>\n",
       "      <td>846.000000</td>\n",
       "      <td>67.100000</td>\n",
       "      <td>2.420000</td>\n",
       "      <td>81.000000</td>\n",
       "      <td>1.000000</td>\n",
       "    </tr>\n",
       "  </tbody>\n",
       "</table>\n",
       "</div>"
      ],
      "text/plain": [
       "       Pregnancies     Glucose  BloodPressure  SkinThickness     Insulin  \\\n",
       "count   768.000000  768.000000     768.000000     768.000000  768.000000   \n",
       "mean      3.845052  120.894531      69.105469      20.536458   79.799479   \n",
       "std       3.369578   31.972618      19.355807      15.952218  115.244002   \n",
       "min       0.000000    0.000000       0.000000       0.000000    0.000000   \n",
       "25%       1.000000   99.000000      62.000000       0.000000    0.000000   \n",
       "50%       3.000000  117.000000      72.000000      23.000000   30.500000   \n",
       "75%       6.000000  140.250000      80.000000      32.000000  127.250000   \n",
       "max      17.000000  199.000000     122.000000      99.000000  846.000000   \n",
       "\n",
       "              BMI  DiabetesPedigreeFunction         Age     Outcome  \n",
       "count  768.000000                768.000000  768.000000  768.000000  \n",
       "mean    31.992578                  0.471876   33.240885    0.348958  \n",
       "std      7.884160                  0.331329   11.760232    0.476951  \n",
       "min      0.000000                  0.078000   21.000000    0.000000  \n",
       "25%     27.300000                  0.243750   24.000000    0.000000  \n",
       "50%     32.000000                  0.372500   29.000000    0.000000  \n",
       "75%     36.600000                  0.626250   41.000000    1.000000  \n",
       "max     67.100000                  2.420000   81.000000    1.000000  "
      ]
     },
     "execution_count": 23,
     "metadata": {},
     "output_type": "execute_result"
    }
   ],
   "source": [
    "diabetes_data.describe()"
   ]
  },
  {
   "cell_type": "markdown",
   "metadata": {},
   "source": [
    "Weird enough, there are many features with a minimum value of zero. This does not make sense for most of these features, because zero glucose level or zero blood pressure does not make much sense. If the number of such datapoints are small, we can treat them as anomaly and get rid of them.  "
   ]
  },
  {
   "cell_type": "code",
   "execution_count": 25,
   "metadata": {},
   "outputs": [
    {
     "name": "stdout",
     "output_type": "stream",
     "text": [
      "There are 5 zero values for Glucose, which is equivalent to 0.6510416666666666%\n",
      "There are 35 zero values for BloodPressure, which is equivalent to 4.557291666666667%\n",
      "There are 227 zero values for SkinThickness, which is equivalent to 29.557291666666668%\n",
      "There are 374 zero values for Insulin, which is equivalent to 48.697916666666664%\n",
      "There are 11 zero values for BMI, which is equivalent to 1.4322916666666667%\n"
     ]
    }
   ],
   "source": [
    "zero_features = ['Glucose','BloodPressure','SkinThickness','Insulin','BMI']\n",
    "total_count = diabetes_data['Glucose'].count() \n",
    "for feature in zero_features: \n",
    "    zero_count = diabetes_data[diabetes_data[feature] == 0][feature].count() \n",
    "    print(\"There are {} zero values for {}, which is equivalent to {}%\".format(zero_count,feature,100*zero_count/total_count))"
   ]
  },
  {
   "cell_type": "code",
   "execution_count": 27,
   "metadata": {},
   "outputs": [
    {
     "data": {
      "image/png": "[encoded data removed]",
      "text/plain": [
       "<Figure size 432x288 with 1 Axes>"
      ]
     },
     "metadata": {
      "needs_background": "light"
     },
     "output_type": "display_data"
    },
    {
     "data": {
      "image/png": "[encoded data removed]",
      "text/plain": [
       "<Figure size 432x288 with 1 Axes>"
      ]
     },
     "metadata": {
      "needs_background": "light"
     },
     "output_type": "display_data"
    },
    {
     "data": {
      "image/png": "[encoded data removed]",
      "text/plain": [
       "<Figure size 432x288 with 1 Axes>"
      ]
     },
     "metadata": {
      "needs_background": "light"
     },
     "output_type": "display_data"
    },
    {
     "data": {
      "image/png": "[encoded data removed]",
      "text/plain": [
       "<Figure size 432x288 with 1 Axes>"
      ]
     },
     "metadata": {
      "needs_background": "light"
     },
     "output_type": "display_data"
    },
    {
     "data": {
      "image/png": "[encoded data removed]",
      "text/plain": [
       "<Figure size 432x288 with 1 Axes>"
      ]
     },
     "metadata": {
      "needs_background": "light"
     },
     "output_type": "display_data"
    }
   ],
   "source": [
    "for feature in zero_features: \n",
    "    plt.hist(diabetes_data[feature],bins=10)\n",
    "    plt.show()"
   ]
  },
  {
   "cell_type": "markdown",
   "metadata": {},
   "source": [
    "There are too many values in the features SkinThickness and Insulin that have min values of zero. So we cannot simply discard these data points and treat them as anomalies. Let us instead replace the 0 with the mean of the feature. "
   ]
  },
  {
   "cell_type": "code",
   "execution_count": 33,
   "metadata": {},
   "outputs": [],
   "source": [
    "mean_zero_features = diabetes_data[zero_features].mean() \n",
    "diabetes_data[zero_features] = diabetes_data[zero_features].replace(0,mean_zero_features) "
   ]
  },
  {
   "cell_type": "markdown",
   "metadata": {},
   "source": [
    "We then apply feature scaling to the X data. This should hopefully improve performance "
   ]
  },
  {
   "cell_type": "code",
   "execution_count": 35,
   "metadata": {},
   "outputs": [
    {
     "name": "stdout",
     "output_type": "stream",
     "text": [
      "Accuracy:0.8116883116883117, Precision:0.7906976744186046, Recall:0.6296296296296297, F1:0.7010309278350516, ROC-AUC:0.7698148148148148\n"
     ]
    }
   ],
   "source": [
    "X = diabetes_data.iloc[:,:-1] \n",
    "Y = diabetes_data.iloc[:,-1] \n",
    "scaler = StandardScaler() \n",
    "X_scaled = scaler.fit_transform(X) # fit and transform \n",
    "X_train,X_test,Y_train,Y_test = train_test_split(X_scaled,Y,test_size=0.2,random_state=200,\n",
    "                                                stratify=Y) \n",
    "logreg = LogisticRegression() \n",
    "logreg.fit(X_train,Y_train) \n",
    "prediction = logreg.predict(X_test) \n",
    "get_eval(Y_test,prediction)"
   ]
  },
  {
   "cell_type": "markdown",
   "metadata": {},
   "source": [
    "We see a slight increase in accuracy from 80% to 81%. We still want to tune our recall score. Let us vary the threshold and try to find a sweet spot between recall and precision. "
   ]
  },
  {
   "cell_type": "code",
   "execution_count": 39,
   "metadata": {},
   "outputs": [
    {
     "name": "stdout",
     "output_type": "stream",
     "text": [
      "Threshold =  0.3\n",
      "Accuracy:0.7597402597402597, Precision:0.6197183098591549, Recall:0.8148148148148148, F1:0.704, ROC-AUC:0.7724074074074074\n",
      "Threshold =  0.32\n",
      "Accuracy:0.7727272727272727, Precision:0.6376811594202898, Recall:0.8148148148148148, F1:0.7154471544715448, ROC-AUC:0.7824074074074074\n",
      "Threshold =  0.34\n",
      "Accuracy:0.7792207792207793, Precision:0.65625, Recall:0.7777777777777778, F1:0.711864406779661, ROC-AUC:0.778888888888889\n",
      "Threshold =  0.36\n",
      "Accuracy:0.7727272727272727, Precision:0.6610169491525424, Recall:0.7222222222222222, F1:0.6902654867256637, ROC-AUC:0.7611111111111112\n",
      "Threshold =  0.38\n",
      "Accuracy:0.7727272727272727, Precision:0.6666666666666666, Recall:0.7037037037037037, F1:0.6846846846846847, ROC-AUC:0.7568518518518519\n",
      "Threshold =  0.4\n",
      "Accuracy:0.7922077922077922, Precision:0.7037037037037037, Recall:0.7037037037037037, F1:0.7037037037037037, ROC-AUC:0.7718518518518518\n",
      "Threshold =  0.42\n",
      "Accuracy:0.7987012987012987, Precision:0.7169811320754716, Recall:0.7037037037037037, F1:0.7102803738317758, ROC-AUC:0.7768518518518519\n",
      "Threshold =  0.44\n",
      "Accuracy:0.7922077922077922, Precision:0.72, Recall:0.6666666666666666, F1:0.6923076923076923, ROC-AUC:0.7633333333333332\n",
      "Threshold =  0.46\n",
      "Accuracy:0.7987012987012987, Precision:0.7446808510638298, Recall:0.6481481481481481, F1:0.6930693069306931, ROC-AUC:0.764074074074074\n",
      "Threshold =  0.48\n",
      "Accuracy:0.8051948051948052, Precision:0.7727272727272727, Recall:0.6296296296296297, F1:0.6938775510204083, ROC-AUC:0.7648148148148148\n",
      "Threshold =  0.5\n",
      "Accuracy:0.8116883116883117, Precision:0.7906976744186046, Recall:0.6296296296296297, F1:0.7010309278350516, ROC-AUC:0.7698148148148148\n"
     ]
    }
   ],
   "source": [
    "thresholds = [0.3,0.32,0.34,0.36,0.38,0.4,0.42,0.44,0.46,0.48,0.5] \n",
    "pred_prob = logreg.predict_proba(X_test) \n",
    "\n",
    "def get_eval_by_threshold(Y_test,pred_prob_c1,thresholds): \n",
    "    for t in thresholds: \n",
    "        binarizer = Binarizer(threshold = t).fit(pred_prob_c1) \n",
    "        predict = binarizer.transform(pred_prob_c1) \n",
    "        print(\"Threshold = \",t) \n",
    "        get_eval(Y_test,predict) \n",
    "\n",
    "get_eval_by_threshold(Y_test,pred_prob[:,1].reshape(-1,1),thresholds)"
   ]
  },
  {
   "cell_type": "markdown",
   "metadata": {},
   "source": [
    "The best recall is achieved when we use a threshold of 0.3 and 0.32. However, we have a better F1 and ROC-AUC score when threshold is 0.32. The problem is that the precision is too low (0.637) so perhaps this is a bit too drastic of a measure. Threshold of 0.42 seems decent, with recall and precision both above 70% and F1 score being one of the highest (0.71). Also the prediction accuracy is better preserved than when we use a threshold of 0.32 (77.2% vs 79.8%). We will use a threshold of 0.42 to make predictions. "
   ]
  },
  {
   "cell_type": "code",
   "execution_count": 40,
   "metadata": {},
   "outputs": [
    {
     "name": "stdout",
     "output_type": "stream",
     "text": [
      "Accuracy:0.7987012987012987, Precision:0.7169811320754716, Recall:0.7037037037037037, F1:0.7102803738317758, ROC-AUC:0.7768518518518519\n"
     ]
    }
   ],
   "source": [
    "binarizer = Binarizer(threshold=0.42) \n",
    "prediction = binarizer.fit_transform(pred_prob[:,1].reshape(-1,1))  \n",
    "get_eval(Y_test,prediction)"
   ]
  },
  {
   "cell_type": "markdown",
   "metadata": {},
   "source": [
    "We get the desired result. We need to set the threshold for the Binarizer because we cannot manually change the threshold for predict. "
   ]
  }
 ],
 "metadata": {
  "kernelspec": {
   "display_name": "Python 3",
   "language": "python",
   "name": "python3"
  },
  "language_info": {
   "codemirror_mode": {
    "name": "ipython",
    "version": 3
   },
   "file_extension": ".py",
   "mimetype": "text/x-python",
   "name": "python",
   "nbconvert_exporter": "python",
   "pygments_lexer": "ipython3",
   "version": "3.7.5"
  }
 },
 "nbformat": 4,
 "nbformat_minor": 4
}
