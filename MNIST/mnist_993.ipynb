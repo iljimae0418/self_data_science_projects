{
 "cells": [
  {
   "cell_type": "markdown",
   "metadata": {},
   "source": [
    "# MNIST hand written digit classification \n",
    "\n",
    "We tackle the classical MNIST digit classification problem using various neural networks.  \n",
    "\n",
    "The data is of shape 28x28x1, where each data represents a picture of a handwritten digit from 0-9. Our task is to classify which digit it is.  \n",
    "\n",
    "The first network I will try is a simple fully connected layer. The setup is Paperspace Gradient NVIDIA P-4000 GPU. "
   ]
  },
  {
   "cell_type": "code",
   "execution_count": 3,
   "metadata": {},
   "outputs": [
    {
     "name": "stdout",
     "output_type": "stream",
     "text": [
      "Collecting pandas\n",
      "\u001b[?25l  Downloading https://files.pythonhosted.org/packages/bb/71/8f53bdbcbc67c912b888b40def255767e475402e9df64050019149b1a943/pandas-1.0.3-cp36-cp36m-manylinux1_x86_64.whl (10.0MB)\n",
      "\u001b[K     |████████████████████████████████| 10.0MB 13.5MB/s eta 0:00:01\n",
      "\u001b[?25hCollecting pytz>=2017.2\n",
      "\u001b[?25l  Downloading https://files.pythonhosted.org/packages/4f/a4/879454d49688e2fad93e59d7d4efda580b783c745fd2ec2a3adf87b0808d/pytz-2020.1-py2.py3-none-any.whl (510kB)\n",
      "\u001b[K     |████████████████████████████████| 512kB 56.6MB/s eta 0:00:01\n",
      "\u001b[?25hRequirement already satisfied: python-dateutil>=2.6.1 in /usr/local/lib/python3.6/dist-packages (from pandas) (2.8.0)\n",
      "Requirement already satisfied: numpy>=1.13.3 in /usr/local/lib/python3.6/dist-packages (from pandas) (1.17.2)\n",
      "Requirement already satisfied: six>=1.5 in /usr/lib/python3/dist-packages (from python-dateutil>=2.6.1->pandas) (1.11.0)\n",
      "Installing collected packages: pytz, pandas\n",
      "Successfully installed pandas-1.0.3 pytz-2020.1\n",
      "\u001b[33mWARNING: You are using pip version 19.3.1; however, version 20.1 is available.\n",
      "You should consider upgrading via the 'pip install --upgrade pip' command.\u001b[0m\n",
      "Note: you may need to restart the kernel to use updated packages.\n"
     ]
    }
   ],
   "source": [
    "pip install pandas "
   ]
  },
  {
   "cell_type": "markdown",
   "metadata": {},
   "source": [
    "### Simple Dense Model "
   ]
  },
  {
   "cell_type": "code",
   "execution_count": 70,
   "metadata": {},
   "outputs": [],
   "source": [
    "train = pd.read_csv(\"train.csv\")\n",
    "X_test = pd.read_csv(\"test.csv\")\n",
    "Y_train = train[\"label\"]\n",
    "X_train = train.drop(labels = [\"label\"],axis = 1)  "
   ]
  },
  {
   "cell_type": "code",
   "execution_count": 71,
   "metadata": {},
   "outputs": [],
   "source": [
    "X_train = np.asarray(X_train) \n",
    "Y_train = np.asarray(Y_train) "
   ]
  },
  {
   "cell_type": "code",
   "execution_count": 72,
   "metadata": {},
   "outputs": [],
   "source": [
    "X_train = X_train / 255.0"
   ]
  },
  {
   "cell_type": "code",
   "execution_count": 73,
   "metadata": {},
   "outputs": [
    {
     "name": "stdout",
     "output_type": "stream",
     "text": [
      "(42000, 784)\n",
      "(42000,)\n"
     ]
    }
   ],
   "source": [
    "from tensorflow.keras.utils import to_categorical \n",
    "#Y_train = to_categorical(Y_train)   \n",
    "\n",
    "print(X_train.shape)\n",
    "print(Y_train.shape)"
   ]
  },
  {
   "cell_type": "code",
   "execution_count": 74,
   "metadata": {},
   "outputs": [],
   "source": [
    "def FCN(): \n",
    "    model = models.Sequential()\n",
    "    model.add(layers.Dense(512, activation = 'relu', input_shape=(28*28,)))\n",
    "    model.add(layers.Dense(10, activation = 'softmax'))\n",
    "    model.compile(optimizer='adam',\n",
    "              loss='sparse_categorical_crossentropy',\n",
    "              metrics=['accuracy'])\n",
    "    return model \n",
    "    "
   ]
  },
  {
   "cell_type": "code",
   "execution_count": 75,
   "metadata": {},
   "outputs": [
    {
     "name": "stdout",
     "output_type": "stream",
     "text": [
      "Train on 42000 samples\n",
      "Epoch 1/10\n",
      "42000/42000 [==============================] - 1s 27us/sample - loss: 0.3052 - accuracy: 0.9134\n",
      "Epoch 2/10\n",
      "42000/42000 [==============================] - 1s 20us/sample - loss: 0.1286 - accuracy: 0.9622\n",
      "Epoch 3/10\n",
      "42000/42000 [==============================] - 1s 20us/sample - loss: 0.0842 - accuracy: 0.9760\n",
      "Epoch 4/10\n",
      "42000/42000 [==============================] - 1s 20us/sample - loss: 0.0590 - accuracy: 0.9831\n",
      "Epoch 5/10\n",
      "42000/42000 [==============================] - 1s 20us/sample - loss: 0.0448 - accuracy: 0.9874\n",
      "Epoch 6/10\n",
      "42000/42000 [==============================] - 1s 20us/sample - loss: 0.0318 - accuracy: 0.9913\n",
      "Epoch 7/10\n",
      "42000/42000 [==============================] - 1s 20us/sample - loss: 0.0258 - accuracy: 0.9931\n",
      "Epoch 8/10\n",
      "42000/42000 [==============================] - 1s 20us/sample - loss: 0.0180 - accuracy: 0.9958\n",
      "Epoch 9/10\n",
      "42000/42000 [==============================] - 1s 21us/sample - loss: 0.0134 - accuracy: 0.9972\n",
      "Epoch 10/10\n",
      "42000/42000 [==============================] - 1s 21us/sample - loss: 0.0108 - accuracy: 0.9976\n"
     ]
    },
    {
     "data": {
      "text/plain": [
       "<tensorflow.python.keras.callbacks.History at 0x7f5f99dc4748>"
      ]
     },
     "execution_count": 75,
     "metadata": {},
     "output_type": "execute_result"
    }
   ],
   "source": [
    "model = FCN() \n",
    "model.fit(X_train, Y_train, epochs = 10, batch_size = 128)"
   ]
  },
  {
   "cell_type": "code",
   "execution_count": 77,
   "metadata": {},
   "outputs": [],
   "source": [
    "X_test = np.asarray(X_test) \n",
    "X_test = X_test/255.0 "
   ]
  },
  {
   "cell_type": "code",
   "execution_count": 79,
   "metadata": {},
   "outputs": [
    {
     "data": {
      "text/plain": [
       "array([2, 0, 9, ..., 3, 9, 2])"
      ]
     },
     "execution_count": 79,
     "metadata": {},
     "output_type": "execute_result"
    }
   ],
   "source": [
    "predicted = model.predict_classes(X_test)\n",
    "predicted"
   ]
  },
  {
   "cell_type": "code",
   "execution_count": 82,
   "metadata": {},
   "outputs": [
    {
     "data": {
      "text/html": [
       "<div>\n",
       "<style scoped>\n",
       "    .dataframe tbody tr th:only-of-type {\n",
       "        vertical-align: middle;\n",
       "    }\n",
       "\n",
       "    .dataframe tbody tr th {\n",
       "        vertical-align: top;\n",
       "    }\n",
       "\n",
       "    .dataframe thead th {\n",
       "        text-align: right;\n",
       "    }\n",
       "</style>\n",
       "<table border=\"1\" class=\"dataframe\">\n",
       "  <thead>\n",
       "    <tr style=\"text-align: right;\">\n",
       "      <th></th>\n",
       "      <th>ImageId</th>\n",
       "      <th>Label</th>\n",
       "    </tr>\n",
       "  </thead>\n",
       "  <tbody>\n",
       "    <tr>\n",
       "      <th>0</th>\n",
       "      <td>1</td>\n",
       "      <td>2</td>\n",
       "    </tr>\n",
       "    <tr>\n",
       "      <th>1</th>\n",
       "      <td>2</td>\n",
       "      <td>0</td>\n",
       "    </tr>\n",
       "    <tr>\n",
       "      <th>2</th>\n",
       "      <td>3</td>\n",
       "      <td>9</td>\n",
       "    </tr>\n",
       "    <tr>\n",
       "      <th>3</th>\n",
       "      <td>4</td>\n",
       "      <td>9</td>\n",
       "    </tr>\n",
       "    <tr>\n",
       "      <th>4</th>\n",
       "      <td>5</td>\n",
       "      <td>3</td>\n",
       "    </tr>\n",
       "    <tr>\n",
       "      <th>5</th>\n",
       "      <td>6</td>\n",
       "      <td>7</td>\n",
       "    </tr>\n",
       "    <tr>\n",
       "      <th>6</th>\n",
       "      <td>7</td>\n",
       "      <td>0</td>\n",
       "    </tr>\n",
       "    <tr>\n",
       "      <th>7</th>\n",
       "      <td>8</td>\n",
       "      <td>3</td>\n",
       "    </tr>\n",
       "    <tr>\n",
       "      <th>8</th>\n",
       "      <td>9</td>\n",
       "      <td>0</td>\n",
       "    </tr>\n",
       "    <tr>\n",
       "      <th>9</th>\n",
       "      <td>10</td>\n",
       "      <td>3</td>\n",
       "    </tr>\n",
       "  </tbody>\n",
       "</table>\n",
       "</div>"
      ],
      "text/plain": [
       "   ImageId  Label\n",
       "0        1      2\n",
       "1        2      0\n",
       "2        3      9\n",
       "3        4      9\n",
       "4        5      3\n",
       "5        6      7\n",
       "6        7      0\n",
       "7        8      3\n",
       "8        9      0\n",
       "9       10      3"
      ]
     },
     "execution_count": 82,
     "metadata": {},
     "output_type": "execute_result"
    }
   ],
   "source": [
    "submission = pd.read_csv('sample_submission.csv')\n",
    "submission['Label'] = predicted \n",
    "submission.head(10)"
   ]
  },
  {
   "cell_type": "code",
   "execution_count": 83,
   "metadata": {},
   "outputs": [],
   "source": [
    "submission.to_csv(\"FCN.csv\",index=False) "
   ]
  },
  {
   "cell_type": "markdown",
   "metadata": {},
   "source": [
    "Upon submitting our prediction from the dense network, we get an accuracy score of 97.57% on the public leaderboard. "
   ]
  },
  {
   "cell_type": "markdown",
   "metadata": {},
   "source": [
    "### Simple CNN Architecture "
   ]
  },
  {
   "cell_type": "markdown",
   "metadata": {},
   "source": [
    "This time, I will try to construct a simple CNN architecture with a few Conv2D and MaxPooling2D layers "
   ]
  },
  {
   "cell_type": "code",
   "execution_count": 84,
   "metadata": {},
   "outputs": [],
   "source": [
    "def custom_CNN(): \n",
    "    model = models.Sequential()\n",
    "    model.add(layers.Conv2D(32,(3,3),activation='relu',input_shape=(28,28,1)))\n",
    "    model.add(layers.MaxPooling2D((2,2))) \n",
    "    model.add(layers.Conv2D(64,(3,3),activation='relu'))\n",
    "    model.add(layers.MaxPooling2D(2,2)) \n",
    "    model.add(layers.Conv2D(64,(3,3),activation='relu'))\n",
    "    model.add(layers.Flatten()) \n",
    "    model.add(layers.Dense(64,activation='relu'))\n",
    "    model.add(layers.Dense(10,activation='softmax')) \n",
    "    model.compile(optimizer='adam',\n",
    "              loss='sparse_categorical_crossentropy',\n",
    "              metrics=['accuracy'])\n",
    "    return model "
   ]
  },
  {
   "cell_type": "code",
   "execution_count": 87,
   "metadata": {},
   "outputs": [
    {
     "name": "stdout",
     "output_type": "stream",
     "text": [
      "(42000, 28, 28, 1)\n",
      "(42000,)\n"
     ]
    }
   ],
   "source": [
    "train = pd.read_csv(\"train.csv\")\n",
    "X_test = pd.read_csv(\"test.csv\")\n",
    "Y_train = train[\"label\"]\n",
    "X_train = train.drop(labels = [\"label\"],axis = 1)  \n",
    "\n",
    "X_train = np.asarray(X_train) \n",
    "X_train = X_train.reshape((-1,28,28,1)) \n",
    "X_train = X_train/255.0 \n",
    "Y_train = np.asarray(Y_train)    \n",
    "\n",
    "print(X_train.shape) \n",
    "print(Y_train.shape)\n",
    "\n",
    "X_test = np.asarray(X_test) \n",
    "X_test = X_test.reshape((-1,28,28,1)) \n",
    "X_test = X_test/255.0 "
   ]
  },
  {
   "cell_type": "code",
   "execution_count": 88,
   "metadata": {},
   "outputs": [
    {
     "name": "stdout",
     "output_type": "stream",
     "text": [
      "Train on 42000 samples\n",
      "Epoch 1/10\n",
      "42000/42000 [==============================] - 4s 99us/sample - loss: 0.3099 - accuracy: 0.9057\n",
      "Epoch 2/10\n",
      "42000/42000 [==============================] - 2s 38us/sample - loss: 0.0738 - accuracy: 0.9772\n",
      "Epoch 3/10\n",
      "42000/42000 [==============================] - 2s 38us/sample - loss: 0.0494 - accuracy: 0.9847\n",
      "Epoch 4/10\n",
      "42000/42000 [==============================] - 2s 40us/sample - loss: 0.0391 - accuracy: 0.9874\n",
      "Epoch 5/10\n",
      "42000/42000 [==============================] - 2s 39us/sample - loss: 0.0322 - accuracy: 0.9890\n",
      "Epoch 6/10\n",
      "42000/42000 [==============================] - 2s 38us/sample - loss: 0.0252 - accuracy: 0.9917\n",
      "Epoch 7/10\n",
      "42000/42000 [==============================] - 2s 39us/sample - loss: 0.0210 - accuracy: 0.9933\n",
      "Epoch 8/10\n",
      "42000/42000 [==============================] - 2s 38us/sample - loss: 0.0164 - accuracy: 0.9949\n",
      "Epoch 9/10\n",
      "42000/42000 [==============================] - 2s 38us/sample - loss: 0.0166 - accuracy: 0.9945\n",
      "Epoch 10/10\n",
      "42000/42000 [==============================] - 2s 39us/sample - loss: 0.0146 - accuracy: 0.9953\n"
     ]
    },
    {
     "data": {
      "text/plain": [
       "<tensorflow.python.keras.callbacks.History at 0x7f5f983eafd0>"
      ]
     },
     "execution_count": 88,
     "metadata": {},
     "output_type": "execute_result"
    }
   ],
   "source": [
    "model = custom_CNN() \n",
    "model.fit(X_train, Y_train, epochs = 10, batch_size = 128)"
   ]
  },
  {
   "cell_type": "code",
   "execution_count": 89,
   "metadata": {},
   "outputs": [
    {
     "data": {
      "text/plain": [
       "array([2, 0, 9, ..., 3, 9, 2])"
      ]
     },
     "execution_count": 89,
     "metadata": {},
     "output_type": "execute_result"
    }
   ],
   "source": [
    "predicted = model.predict_classes(X_test)\n",
    "predicted"
   ]
  },
  {
   "cell_type": "code",
   "execution_count": 90,
   "metadata": {},
   "outputs": [
    {
     "data": {
      "text/html": [
       "<div>\n",
       "<style scoped>\n",
       "    .dataframe tbody tr th:only-of-type {\n",
       "        vertical-align: middle;\n",
       "    }\n",
       "\n",
       "    .dataframe tbody tr th {\n",
       "        vertical-align: top;\n",
       "    }\n",
       "\n",
       "    .dataframe thead th {\n",
       "        text-align: right;\n",
       "    }\n",
       "</style>\n",
       "<table border=\"1\" class=\"dataframe\">\n",
       "  <thead>\n",
       "    <tr style=\"text-align: right;\">\n",
       "      <th></th>\n",
       "      <th>ImageId</th>\n",
       "      <th>Label</th>\n",
       "    </tr>\n",
       "  </thead>\n",
       "  <tbody>\n",
       "    <tr>\n",
       "      <th>0</th>\n",
       "      <td>1</td>\n",
       "      <td>2</td>\n",
       "    </tr>\n",
       "    <tr>\n",
       "      <th>1</th>\n",
       "      <td>2</td>\n",
       "      <td>0</td>\n",
       "    </tr>\n",
       "    <tr>\n",
       "      <th>2</th>\n",
       "      <td>3</td>\n",
       "      <td>9</td>\n",
       "    </tr>\n",
       "    <tr>\n",
       "      <th>3</th>\n",
       "      <td>4</td>\n",
       "      <td>0</td>\n",
       "    </tr>\n",
       "    <tr>\n",
       "      <th>4</th>\n",
       "      <td>5</td>\n",
       "      <td>3</td>\n",
       "    </tr>\n",
       "    <tr>\n",
       "      <th>5</th>\n",
       "      <td>6</td>\n",
       "      <td>7</td>\n",
       "    </tr>\n",
       "    <tr>\n",
       "      <th>6</th>\n",
       "      <td>7</td>\n",
       "      <td>0</td>\n",
       "    </tr>\n",
       "    <tr>\n",
       "      <th>7</th>\n",
       "      <td>8</td>\n",
       "      <td>3</td>\n",
       "    </tr>\n",
       "    <tr>\n",
       "      <th>8</th>\n",
       "      <td>9</td>\n",
       "      <td>0</td>\n",
       "    </tr>\n",
       "    <tr>\n",
       "      <th>9</th>\n",
       "      <td>10</td>\n",
       "      <td>3</td>\n",
       "    </tr>\n",
       "  </tbody>\n",
       "</table>\n",
       "</div>"
      ],
      "text/plain": [
       "   ImageId  Label\n",
       "0        1      2\n",
       "1        2      0\n",
       "2        3      9\n",
       "3        4      0\n",
       "4        5      3\n",
       "5        6      7\n",
       "6        7      0\n",
       "7        8      3\n",
       "8        9      0\n",
       "9       10      3"
      ]
     },
     "execution_count": 90,
     "metadata": {},
     "output_type": "execute_result"
    }
   ],
   "source": [
    "submission = pd.read_csv('sample_submission.csv')\n",
    "submission['Label'] = predicted \n",
    "submission.head(10)"
   ]
  },
  {
   "cell_type": "code",
   "execution_count": 92,
   "metadata": {},
   "outputs": [],
   "source": [
    "submission.to_csv('simple_CNN.csv',index=False)"
   ]
  },
  {
   "cell_type": "markdown",
   "metadata": {},
   "source": [
    "Upon submission, we get an accuracy of 99.06% on the public leaderboard. This is an improvement from the simple dense network. "
   ]
  },
  {
   "cell_type": "markdown",
   "metadata": {},
   "source": [
    "### Conclusion\n",
    "\n",
    "From this small experiment, we could see the power of convolution neueral networks on image classifcation problems. \n",
    "\n",
    "Other things we could do to improve performance on the MNIST dataset \n",
    "1. Try augmenting data using ImageDataGenerator (like rotating handwritten digits)\n",
    "\n",
    "2. Try pretrained models such as LeNet, VGG-16, etc.\n",
    "\n",
    "3. For simplicity, I have not used validation data during training to tune the model. Rather, I have directly used the provided test data to make predictions on the trained model. For better analysis, it is always best to split the full train data to train and validation set, and then run for many epochs (with various values of hyperparameters) to decide on which epoch to stop and which hyperparameter is the best. Once these values are decided, we train the model on the full dataset with the hyperparameters we have found to be the best. Then we make our prediction. "
   ]
  },
  {
   "cell_type": "markdown",
   "metadata": {},
   "source": [
    "### Follow Up \n",
    "\n",
    "Let us try to augment data using ImageDataGenerator. After augmenting the data, we will trty to submit on Kaggle to see its performance"
   ]
  },
  {
   "cell_type": "code",
   "execution_count": 44,
   "metadata": {},
   "outputs": [],
   "source": [
    "import pandas as pd \n",
    "import numpy as np \n",
    "import tensorflow.keras \n",
    "from tensorflow.keras.utils import to_categorical\n",
    "\n",
    "\n",
    "train = pd.read_csv(\"train.csv\")\n",
    "X_test = pd.read_csv(\"test.csv\")\n",
    "Y_train = train[\"label\"]\n",
    "X_train = train.drop(labels = [\"label\"],axis = 1)  \n",
    "X_train = np.asarray(X_train) \n",
    "X_train = X_train.reshape((-1,28,28,1)) \n",
    "X_train = X_train / 255.0\n",
    "Y_train = np.asarray(Y_train) \n",
    "Y_train = to_categorical(Y_train)\n"
   ]
  },
  {
   "cell_type": "code",
   "execution_count": 45,
   "metadata": {},
   "outputs": [],
   "source": [
    "from tensorflow.keras import models, layers \n",
    "from tensorflow.keras.layers import Conv2D, MaxPooling2D, Input, Dense, Flatten,Activation,AveragePooling2D,BatchNormalization\n",
    "from tensorflow.keras.optimizers import SGD, Adam\n",
    "from tensorflow.keras.models import Sequential\n",
    "from tensorflow.keras.preprocessing.image import ImageDataGenerator\n",
    "\n",
    "''' a simple version of CNN we used above '''\n",
    "def custom_CNN(): \n",
    "    model = models.Sequential()\n",
    "    model.add(layers.Conv2D(32,(3,3),activation='relu',input_shape=(28,28,1)))\n",
    "    model.add(layers.MaxPooling2D((2,2))) \n",
    "    model.add(layers.Conv2D(64,(3,3),activation='relu'))\n",
    "    model.add(layers.MaxPooling2D(2,2)) \n",
    "    model.add(layers.Conv2D(64,(3,3),activation='relu'))\n",
    "    model.add(layers.Flatten()) \n",
    "    model.add(layers.Dense(64,activation='relu'))\n",
    "    model.add(layers.Dense(10,activation='softmax')) \n",
    "    model.compile(optimizer='adam',\n",
    "              loss='sparse_categorical_crossentropy',\n",
    "              metrics=['accuracy'])\n",
    "    return model \n",
    "\n",
    "\n",
    "''' improved CNN '''\n",
    "def improved_CNN(): \n",
    "    model = Sequential()\n",
    "    model.add(Conv2D(filters=64, kernel_size = (3,3), activation=\"relu\", input_shape=(28,28,1)))\n",
    "    model.add(Conv2D(filters=64, kernel_size = (3,3), activation=\"relu\"))\n",
    "    model.add(MaxPooling2D(pool_size=(2,2)))\n",
    "    model.add(BatchNormalization())\n",
    "    model.add(Conv2D(filters=128, kernel_size = (3,3), activation=\"relu\"))\n",
    "    model.add(Conv2D(filters=128, kernel_size = (3,3), activation=\"relu\"))\n",
    "    model.add(MaxPooling2D(pool_size=(2,2)))\n",
    "    model.add(BatchNormalization())    \n",
    "    model.add(Conv2D(filters=256, kernel_size = (3,3), activation=\"relu\"))\n",
    "    model.add(MaxPooling2D(pool_size=(2,2)))\n",
    "    model.add(Flatten())\n",
    "    model.add(BatchNormalization())\n",
    "    model.add(Dense(512,activation=\"relu\"))\n",
    "    model.add(Dense(10,activation=\"softmax\"))\n",
    "    model.compile(loss=\"categorical_crossentropy\", optimizer=\"adam\", metrics=[\"accuracy\"])\n",
    "    return model \n",
    "\n",
    "    "
   ]
  },
  {
   "cell_type": "code",
   "execution_count": 46,
   "metadata": {},
   "outputs": [],
   "source": [
    "'''create ImageDataGenerator. The chosen hyperparameters are arbitrary''' \n",
    "\n",
    "datagen = ImageDataGenerator(\n",
    "        rotation_range=10,  \n",
    "        zoom_range = 0.10,  \n",
    "        width_shift_range=0.1, \n",
    "        height_shift_range=0.1)\n",
    "train_gen = datagen.flow(X_train, Y_train, batch_size=64) \n"
   ]
  },
  {
   "cell_type": "code",
   "execution_count": null,
   "metadata": {},
   "outputs": [
    {
     "name": "stdout",
     "output_type": "stream",
     "text": [
      "Epoch 1/50\n",
      "657/657 [==============================] - 40s 61ms/step - loss: 0.1508 - accuracy: 0.9523\n",
      "Epoch 2/50\n",
      "657/657 [==============================] - 40s 61ms/step - loss: 0.0656 - accuracy: 0.9805\n",
      "Epoch 3/50\n",
      "657/657 [==============================] - 40s 61ms/step - loss: 0.0523 - accuracy: 0.9845\n",
      "Epoch 4/50\n",
      "657/657 [==============================] - 40s 61ms/step - loss: 0.0485 - accuracy: 0.9853\n",
      "Epoch 5/50\n",
      "657/657 [==============================] - 40s 61ms/step - loss: 0.0451 - accuracy: 0.9860\n",
      "Epoch 6/50\n",
      "657/657 [==============================] - 40s 62ms/step - loss: 0.0386 - accuracy: 0.9885\n",
      "Epoch 7/50\n",
      "657/657 [==============================] - 40s 61ms/step - loss: 0.0337 - accuracy: 0.9894\n",
      "Epoch 8/50\n",
      "657/657 [==============================] - 40s 61ms/step - loss: 0.0351 - accuracy: 0.9895\n",
      "Epoch 9/50\n",
      "657/657 [==============================] - 40s 60ms/step - loss: 0.0317 - accuracy: 0.9902\n",
      "Epoch 10/50\n",
      "657/657 [==============================] - 40s 61ms/step - loss: 0.0294 - accuracy: 0.9909\n",
      "Epoch 11/50\n",
      "657/657 [==============================] - 40s 61ms/step - loss: 0.0293 - accuracy: 0.9915\n",
      "Epoch 12/50\n",
      "657/657 [==============================] - 40s 61ms/step - loss: 0.0264 - accuracy: 0.99200s - loss: 0.0264 - \n",
      "Epoch 13/50\n",
      "657/657 [==============================] - 40s 60ms/step - loss: 0.0239 - accuracy: 0.9924\n",
      "Epoch 14/50\n",
      "657/657 [==============================] - 40s 61ms/step - loss: 0.0202 - accuracy: 0.9939\n",
      "Epoch 15/50\n",
      "657/657 [==============================] - 40s 61ms/step - loss: 0.0226 - accuracy: 0.9930\n",
      "Epoch 16/50\n",
      "657/657 [==============================] - 40s 61ms/step - loss: 0.0209 - accuracy: 0.9937\n",
      "Epoch 17/50\n",
      "657/657 [==============================] - 40s 60ms/step - loss: 0.0197 - accuracy: 0.9942\n",
      "Epoch 18/50\n",
      "657/657 [==============================] - 40s 60ms/step - loss: 0.0200 - accuracy: 0.9938\n",
      "Epoch 19/50\n",
      "657/657 [==============================] - 40s 61ms/step - loss: 0.0195 - accuracy: 0.9938\n",
      "Epoch 20/50\n",
      "657/657 [==============================] - 40s 61ms/step - loss: 0.0181 - accuracy: 0.9944\n",
      "Epoch 21/50\n",
      "657/657 [==============================] - 40s 61ms/step - loss: 0.0180 - accuracy: 0.9942\n",
      "Epoch 22/50\n",
      "657/657 [==============================] - 40s 61ms/step - loss: 0.0185 - accuracy: 0.9941\n",
      "Epoch 23/50\n",
      "657/657 [==============================] - 40s 61ms/step - loss: 0.0152 - accuracy: 0.9956\n",
      "Epoch 24/50\n",
      "657/657 [==============================] - 40s 61ms/step - loss: 0.0148 - accuracy: 0.9952\n",
      "Epoch 25/50\n",
      "657/657 [==============================] - 40s 60ms/step - loss: 0.0147 - accuracy: 0.9956\n",
      "Epoch 26/50\n",
      "657/657 [==============================] - 40s 61ms/step - loss: 0.0157 - accuracy: 0.9953\n",
      "Epoch 27/50\n",
      "657/657 [==============================] - 40s 61ms/step - loss: 0.0149 - accuracy: 0.9954\n",
      "Epoch 28/50\n",
      "657/657 [==============================] - 40s 61ms/step - loss: 0.0137 - accuracy: 0.9957\n",
      "Epoch 29/50\n",
      "657/657 [==============================] - 40s 61ms/step - loss: 0.0123 - accuracy: 0.9963\n",
      "Epoch 30/50\n",
      "657/657 [==============================] - 40s 61ms/step - loss: 0.0131 - accuracy: 0.9959\n",
      "Epoch 31/50\n",
      "657/657 [==============================] - 40s 60ms/step - loss: 0.0139 - accuracy: 0.9957\n",
      "Epoch 32/50\n",
      "657/657 [==============================] - 40s 61ms/step - loss: 0.0116 - accuracy: 0.9963\n",
      "Epoch 33/50\n",
      "657/657 [==============================] - 40s 60ms/step - loss: 0.0113 - accuracy: 0.9965\n",
      "Epoch 34/50\n",
      "657/657 [==============================] - 40s 61ms/step - loss: 0.0119 - accuracy: 0.9964\n",
      "Epoch 35/50\n",
      "657/657 [==============================] - 40s 62ms/step - loss: 0.0123 - accuracy: 0.9964\n",
      "Epoch 36/50\n",
      "657/657 [==============================] - 40s 61ms/step - loss: 0.0104 - accuracy: 0.9967\n",
      "Epoch 37/50\n",
      "657/657 [==============================] - 40s 62ms/step - loss: 0.0107 - accuracy: 0.9966\n",
      "Epoch 38/50\n",
      "657/657 [==============================] - 40s 61ms/step - loss: 0.0099 - accuracy: 0.9968\n",
      "Epoch 39/50\n",
      "657/657 [==============================] - 40s 61ms/step - loss: 0.0117 - accuracy: 0.9962\n",
      "Epoch 40/50\n",
      "657/657 [==============================] - 40s 61ms/step - loss: 0.0098 - accuracy: 0.9969\n",
      "Epoch 41/50\n",
      "657/657 [==============================] - 40s 61ms/step - loss: 0.0111 - accuracy: 0.9966\n",
      "Epoch 42/50\n",
      "657/657 [==============================] - 40s 60ms/step - loss: 0.0105 - accuracy: 0.9968\n",
      "Epoch 43/50\n",
      "657/657 [==============================] - 40s 61ms/step - loss: 0.0095 - accuracy: 0.9971\n",
      "Epoch 44/50\n",
      "657/657 [==============================] - 40s 61ms/step - loss: 0.0088 - accuracy: 0.9975\n",
      "Epoch 45/50\n",
      "657/657 [==============================] - 40s 61ms/step - loss: 0.0093 - accuracy: 0.9970\n",
      "Epoch 46/50\n",
      "657/657 [==============================] - 40s 61ms/step - loss: 0.0100 - accuracy: 0.9969\n",
      "Epoch 47/50\n",
      "657/657 [==============================] - 40s 61ms/step - loss: 0.0089 - accuracy: 0.9972\n",
      "Epoch 48/50\n",
      "657/657 [==============================] - 40s 62ms/step - loss: 0.0084 - accuracy: 0.9976\n",
      "Epoch 49/50\n",
      "657/657 [==============================] - 40s 61ms/step - loss: 0.0098 - accuracy: 0.9971\n",
      "Epoch 50/50\n",
      "581/657 [=========================>....] - ETA: 4s - loss: 0.0081 - accuracy: 0.9976"
     ]
    }
   ],
   "source": [
    "model = improved_CNN()\n",
    "model.fit_generator(train_gen,epochs=50,verbose=1)"
   ]
  },
  {
   "cell_type": "code",
   "execution_count": 29,
   "metadata": {},
   "outputs": [
    {
     "data": {
      "text/plain": [
       "array([2, 0, 9, ..., 3, 9, 2])"
      ]
     },
     "execution_count": 29,
     "metadata": {},
     "output_type": "execute_result"
    }
   ],
   "source": [
    "X_test = np.asarray(X_test) \n",
    "X_test = X_test.reshape((-1,28,28,1)) \n",
    "X_test = X_test/255.0 \n",
    "\n",
    "predicted = model.predict_classes(X_test)\n",
    "predicted"
   ]
  },
  {
   "cell_type": "code",
   "execution_count": 30,
   "metadata": {},
   "outputs": [
    {
     "data": {
      "text/html": [
       "<div>\n",
       "<style scoped>\n",
       "    .dataframe tbody tr th:only-of-type {\n",
       "        vertical-align: middle;\n",
       "    }\n",
       "\n",
       "    .dataframe tbody tr th {\n",
       "        vertical-align: top;\n",
       "    }\n",
       "\n",
       "    .dataframe thead th {\n",
       "        text-align: right;\n",
       "    }\n",
       "</style>\n",
       "<table border=\"1\" class=\"dataframe\">\n",
       "  <thead>\n",
       "    <tr style=\"text-align: right;\">\n",
       "      <th></th>\n",
       "      <th>ImageId</th>\n",
       "      <th>Label</th>\n",
       "    </tr>\n",
       "  </thead>\n",
       "  <tbody>\n",
       "    <tr>\n",
       "      <th>0</th>\n",
       "      <td>1</td>\n",
       "      <td>2</td>\n",
       "    </tr>\n",
       "    <tr>\n",
       "      <th>1</th>\n",
       "      <td>2</td>\n",
       "      <td>0</td>\n",
       "    </tr>\n",
       "    <tr>\n",
       "      <th>2</th>\n",
       "      <td>3</td>\n",
       "      <td>9</td>\n",
       "    </tr>\n",
       "    <tr>\n",
       "      <th>3</th>\n",
       "      <td>4</td>\n",
       "      <td>0</td>\n",
       "    </tr>\n",
       "    <tr>\n",
       "      <th>4</th>\n",
       "      <td>5</td>\n",
       "      <td>3</td>\n",
       "    </tr>\n",
       "    <tr>\n",
       "      <th>5</th>\n",
       "      <td>6</td>\n",
       "      <td>7</td>\n",
       "    </tr>\n",
       "    <tr>\n",
       "      <th>6</th>\n",
       "      <td>7</td>\n",
       "      <td>0</td>\n",
       "    </tr>\n",
       "    <tr>\n",
       "      <th>7</th>\n",
       "      <td>8</td>\n",
       "      <td>3</td>\n",
       "    </tr>\n",
       "    <tr>\n",
       "      <th>8</th>\n",
       "      <td>9</td>\n",
       "      <td>0</td>\n",
       "    </tr>\n",
       "    <tr>\n",
       "      <th>9</th>\n",
       "      <td>10</td>\n",
       "      <td>3</td>\n",
       "    </tr>\n",
       "  </tbody>\n",
       "</table>\n",
       "</div>"
      ],
      "text/plain": [
       "   ImageId  Label\n",
       "0        1      2\n",
       "1        2      0\n",
       "2        3      9\n",
       "3        4      0\n",
       "4        5      3\n",
       "5        6      7\n",
       "6        7      0\n",
       "7        8      3\n",
       "8        9      0\n",
       "9       10      3"
      ]
     },
     "execution_count": 30,
     "metadata": {},
     "output_type": "execute_result"
    }
   ],
   "source": [
    "submission = pd.read_csv('sample_submission.csv')\n",
    "submission['Label'] = predicted \n",
    "submission.head(10) "
   ]
  },
  {
   "cell_type": "code",
   "execution_count": 31,
   "metadata": {},
   "outputs": [],
   "source": [
    "submission.to_csv('augmented_improved_CNN.csv',index=False) "
   ]
  },
  {
   "cell_type": "markdown",
   "metadata": {},
   "source": [
    "The submission resulted in a score of 99.37% accuracy on the public leaderboard. Definitely an improvement compared to our previous submission! "
   ]
  },
  {
   "cell_type": "code",
   "execution_count": null,
   "metadata": {},
   "outputs": [],
   "source": []
  }
 ],
 "metadata": {
  "kernelspec": {
   "display_name": "Python 3",
   "language": "python",
   "name": "python3"
  },
  "language_info": {
   "codemirror_mode": {
    "name": "ipython",
    "version": 3
   },
   "file_extension": ".py",
   "mimetype": "text/x-python",
   "name": "python",
   "nbconvert_exporter": "python",
   "pygments_lexer": "ipython3",
   "version": "3.6.8"
  }
 },
 "nbformat": 4,
 "nbformat_minor": 4
}
