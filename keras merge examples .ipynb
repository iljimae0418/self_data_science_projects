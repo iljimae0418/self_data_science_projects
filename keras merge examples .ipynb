{
 "cells": [
  {
   "cell_type": "code",
   "execution_count": 1,
   "metadata": {},
   "outputs": [],
   "source": [
    "import numpy as np \n",
    "import pandas as pd \n",
    "\n",
    "x1 = np.array([range(100),range(311,411),range(100)]) \n",
    "x2 = np.array([range(101,201),range(311,411),range(101,201)]) \n",
    "\n",
    "y = np.array([range(501,601)]) "
   ]
  },
  {
   "cell_type": "code",
   "execution_count": 2,
   "metadata": {},
   "outputs": [
    {
     "data": {
      "text/plain": [
       "((3, 100), (3, 100), (1, 100))"
      ]
     },
     "execution_count": 2,
     "metadata": {},
     "output_type": "execute_result"
    }
   ],
   "source": [
    "x1.shape, x2.shape, y.shape"
   ]
  },
  {
   "cell_type": "code",
   "execution_count": 4,
   "metadata": {},
   "outputs": [
    {
     "data": {
      "text/plain": [
       "((100, 3), (100, 3), (100, 1))"
      ]
     },
     "execution_count": 4,
     "metadata": {},
     "output_type": "execute_result"
    }
   ],
   "source": [
    "x1 = np.transpose(x1)\n",
    "x2 = np.transpose(x2) \n",
    "y = np.transpose(y) \n",
    "\n",
    "x1.shape, x2.shape, y.shape \n"
   ]
  },
  {
   "cell_type": "code",
   "execution_count": 5,
   "metadata": {},
   "outputs": [],
   "source": [
    "from sklearn.model_selection import train_test_split \n",
    "\n",
    "x1_train, x1_test, y_train, y_test = train_test_split(x1,y,random_state=66,test_size=0.4,shuffle=False) \n",
    "\n",
    "x1_val, x1_test, y_val, y_test = train_test_split(x1_test, y_test, random_state=66, test_size=0.5, shuffle=False) \n",
    "\n",
    "x2_train, x2_test = train_test_split(x2, random_state = 66, test_size = 0.4, shuffle=False) \n",
    "\n",
    "x2_val, x2_test = train_test_split(x2_test, random_state = 66, test_size = 0.5, shuffle=False) \n"
   ]
  },
  {
   "cell_type": "code",
   "execution_count": 9,
   "metadata": {},
   "outputs": [],
   "source": [
    "from keras.models import Sequential, Model \n",
    "from keras.layers import Dense, Input \n",
    "input1 = Input(shape=(3,))\n",
    "dense1 = Dense(100,activation='relu')(input1) \n",
    "dense1_2 = Dense(30)(dense1) \n",
    "dense1_3 = Dense(7)(dense1_2) \n",
    "\n",
    "input2 = Input(shape=(3,))\n",
    "dense2 = Dense(50,activation='relu')(input2) \n",
    "dense2_2 = Dense(7)(dense2) "
   ]
  },
  {
   "cell_type": "code",
   "execution_count": 10,
   "metadata": {},
   "outputs": [],
   "source": [
    "from keras.layers.merge import Concatenate  \n",
    "merge1 = Concatenate()([dense1_3, dense2_2]) \n",
    "model1 = Dense(5)(merge1) \n",
    "model2 = Dense(5)(model1) \n",
    "output = Dense(1)(model2)"
   ]
  },
  {
   "cell_type": "code",
   "execution_count": 11,
   "metadata": {},
   "outputs": [],
   "source": [
    "model = Model(inputs=[input1,input2],outputs=output)"
   ]
  },
  {
   "cell_type": "code",
   "execution_count": 12,
   "metadata": {},
   "outputs": [
    {
     "name": "stdout",
     "output_type": "stream",
     "text": [
      "Model: \"model_1\"\n",
      "__________________________________________________________________________________________________\n",
      "Layer (type)                    Output Shape         Param #     Connected to                     \n",
      "==================================================================================================\n",
      "input_2 (InputLayer)            (None, 3)            0                                            \n",
      "__________________________________________________________________________________________________\n",
      "dense_4 (Dense)                 (None, 100)          400         input_2[0][0]                    \n",
      "__________________________________________________________________________________________________\n",
      "input_3 (InputLayer)            (None, 3)            0                                            \n",
      "__________________________________________________________________________________________________\n",
      "dense_5 (Dense)                 (None, 30)           3030        dense_4[0][0]                    \n",
      "__________________________________________________________________________________________________\n",
      "dense_7 (Dense)                 (None, 50)           200         input_3[0][0]                    \n",
      "__________________________________________________________________________________________________\n",
      "dense_6 (Dense)                 (None, 7)            217         dense_5[0][0]                    \n",
      "__________________________________________________________________________________________________\n",
      "dense_8 (Dense)                 (None, 7)            357         dense_7[0][0]                    \n",
      "__________________________________________________________________________________________________\n",
      "concatenate_1 (Concatenate)     (None, 14)           0           dense_6[0][0]                    \n",
      "                                                                 dense_8[0][0]                    \n",
      "__________________________________________________________________________________________________\n",
      "dense_9 (Dense)                 (None, 5)            75          concatenate_1[0][0]              \n",
      "__________________________________________________________________________________________________\n",
      "dense_10 (Dense)                (None, 5)            30          dense_9[0][0]                    \n",
      "__________________________________________________________________________________________________\n",
      "dense_11 (Dense)                (None, 1)            6           dense_10[0][0]                   \n",
      "==================================================================================================\n",
      "Total params: 4,315\n",
      "Trainable params: 4,315\n",
      "Non-trainable params: 0\n",
      "__________________________________________________________________________________________________\n"
     ]
    }
   ],
   "source": [
    "model.summary()"
   ]
  },
  {
   "cell_type": "code",
   "execution_count": 14,
   "metadata": {},
   "outputs": [
    {
     "name": "stdout",
     "output_type": "stream",
     "text": [
      "Train on 60 samples, validate on 20 samples\n",
      "Epoch 1/100\n",
      "60/60 [==============================] - 1s 10ms/step - loss: 79.1106 - mse: 79.1106 - val_loss: 10.6542 - val_mse: 10.6542\n",
      "Epoch 2/100\n",
      "60/60 [==============================] - 0s 4ms/step - loss: 2.6498 - mse: 2.6498 - val_loss: 3.1808 - val_mse: 3.1808\n",
      "Epoch 3/100\n",
      "60/60 [==============================] - 0s 3ms/step - loss: 0.1379 - mse: 0.1379 - val_loss: 2.0035 - val_mse: 2.0035\n",
      "Epoch 4/100\n",
      "60/60 [==============================] - 0s 3ms/step - loss: 0.0864 - mse: 0.0864 - val_loss: 3.7130 - val_mse: 3.7130\n",
      "Epoch 5/100\n",
      "60/60 [==============================] - 0s 4ms/step - loss: 0.0744 - mse: 0.0744 - val_loss: 1.1044 - val_mse: 1.1044\n",
      "Epoch 6/100\n",
      "60/60 [==============================] - 0s 4ms/step - loss: 0.0747 - mse: 0.0747 - val_loss: 2.6827 - val_mse: 2.6827\n",
      "Epoch 7/100\n",
      "60/60 [==============================] - 0s 3ms/step - loss: 0.1418 - mse: 0.1418 - val_loss: 0.7859 - val_mse: 0.7859\n",
      "Epoch 8/100\n",
      "60/60 [==============================] - 0s 3ms/step - loss: 0.0814 - mse: 0.0814 - val_loss: 3.7509 - val_mse: 3.7509\n",
      "Epoch 9/100\n",
      "60/60 [==============================] - 0s 4ms/step - loss: 0.0206 - mse: 0.0206 - val_loss: 1.8132 - val_mse: 1.8132\n",
      "Epoch 10/100\n",
      "60/60 [==============================] - 0s 4ms/step - loss: 0.1021 - mse: 0.1021 - val_loss: 1.0054 - val_mse: 1.0054\n",
      "Epoch 11/100\n",
      "60/60 [==============================] - 0s 3ms/step - loss: 0.0234 - mse: 0.0234 - val_loss: 2.7688 - val_mse: 2.7688\n",
      "Epoch 12/100\n",
      "60/60 [==============================] - 0s 4ms/step - loss: 0.0513 - mse: 0.0513 - val_loss: 4.0994 - val_mse: 4.0994\n",
      "Epoch 13/100\n",
      "60/60 [==============================] - 0s 4ms/step - loss: 0.1184 - mse: 0.1184 - val_loss: 1.3342 - val_mse: 1.3342\n",
      "Epoch 14/100\n",
      "60/60 [==============================] - 0s 5ms/step - loss: 0.4391 - mse: 0.4391 - val_loss: 2.5160 - val_mse: 2.5160\n",
      "Epoch 15/100\n",
      "60/60 [==============================] - 0s 3ms/step - loss: 0.0563 - mse: 0.0563 - val_loss: 2.3195 - val_mse: 2.3195\n",
      "Epoch 16/100\n",
      "60/60 [==============================] - 0s 4ms/step - loss: 1.0302 - mse: 1.0302 - val_loss: 0.4477 - val_mse: 0.4477\n",
      "Epoch 17/100\n",
      "60/60 [==============================] - 0s 4ms/step - loss: 147.0807 - mse: 147.0807 - val_loss: 6.9338 - val_mse: 6.9338\n",
      "Epoch 18/100\n",
      "60/60 [==============================] - 0s 4ms/step - loss: 87.5882 - mse: 87.5882 - val_loss: 6.0934 - val_mse: 6.0934\n",
      "Epoch 19/100\n",
      "60/60 [==============================] - 0s 3ms/step - loss: 4.6148 - mse: 4.6148 - val_loss: 1.1769 - val_mse: 1.1769\n",
      "Epoch 20/100\n",
      "60/60 [==============================] - 0s 3ms/step - loss: 0.0095 - mse: 0.0095 - val_loss: 0.8406 - val_mse: 0.8406\n",
      "Epoch 21/100\n",
      "60/60 [==============================] - 0s 5ms/step - loss: 0.0048 - mse: 0.0048 - val_loss: 0.7261 - val_mse: 0.7261\n",
      "Epoch 22/100\n",
      "60/60 [==============================] - 0s 5ms/step - loss: 0.0044 - mse: 0.0044 - val_loss: 0.7816 - val_mse: 0.7816\n",
      "Epoch 23/100\n",
      "60/60 [==============================] - 0s 4ms/step - loss: 0.0027 - mse: 0.0027 - val_loss: 0.7445 - val_mse: 0.7445\n",
      "Epoch 24/100\n",
      "60/60 [==============================] - 0s 4ms/step - loss: 0.0062 - mse: 0.0062 - val_loss: 0.8146 - val_mse: 0.8146\n",
      "Epoch 25/100\n",
      "60/60 [==============================] - 0s 3ms/step - loss: 0.0148 - mse: 0.0148 - val_loss: 0.7608 - val_mse: 0.7608\n",
      "Epoch 26/100\n",
      "60/60 [==============================] - 0s 4ms/step - loss: 0.0048 - mse: 0.0048 - val_loss: 1.0561 - val_mse: 1.0561\n",
      "Epoch 27/100\n",
      "60/60 [==============================] - 0s 4ms/step - loss: 0.0040 - mse: 0.0040 - val_loss: 0.8960 - val_mse: 0.8960\n",
      "Epoch 28/100\n",
      "60/60 [==============================] - 0s 3ms/step - loss: 0.0082 - mse: 0.0082 - val_loss: 1.0366 - val_mse: 1.0366\n",
      "Epoch 29/100\n",
      "60/60 [==============================] - 0s 4ms/step - loss: 0.0103 - mse: 0.0103 - val_loss: 1.1701 - val_mse: 1.1701\n",
      "Epoch 30/100\n",
      "60/60 [==============================] - 0s 4ms/step - loss: 0.0059 - mse: 0.0059 - val_loss: 0.7287 - val_mse: 0.7287\n",
      "Epoch 31/100\n",
      "60/60 [==============================] - 0s 4ms/step - loss: 0.0085 - mse: 0.0085 - val_loss: 0.9458 - val_mse: 0.9458\n",
      "Epoch 32/100\n",
      "60/60 [==============================] - 0s 3ms/step - loss: 0.0048 - mse: 0.0048 - val_loss: 0.9024 - val_mse: 0.9024\n",
      "Epoch 33/100\n",
      "60/60 [==============================] - 0s 3ms/step - loss: 0.0025 - mse: 0.0025 - val_loss: 0.8257 - val_mse: 0.8257\n",
      "Epoch 34/100\n",
      "60/60 [==============================] - 0s 3ms/step - loss: 0.0033 - mse: 0.0033 - val_loss: 0.9905 - val_mse: 0.9905\n",
      "Epoch 35/100\n",
      "60/60 [==============================] - 0s 3ms/step - loss: 0.0395 - mse: 0.0395 - val_loss: 1.1250 - val_mse: 1.1250\n",
      "Epoch 36/100\n",
      "60/60 [==============================] - 0s 5ms/step - loss: 0.0046 - mse: 0.0046 - val_loss: 0.7900 - val_mse: 0.7900\n",
      "Epoch 37/100\n",
      "60/60 [==============================] - 0s 3ms/step - loss: 0.0053 - mse: 0.0053 - val_loss: 0.9171 - val_mse: 0.9171\n",
      "Epoch 38/100\n",
      "60/60 [==============================] - 0s 3ms/step - loss: 0.0649 - mse: 0.0649 - val_loss: 0.7968 - val_mse: 0.7968\n",
      "Epoch 39/100\n",
      "60/60 [==============================] - 0s 3ms/step - loss: 0.0204 - mse: 0.0204 - val_loss: 0.4818 - val_mse: 0.4818\n",
      "Epoch 40/100\n",
      "60/60 [==============================] - 0s 3ms/step - loss: 0.0722 - mse: 0.0722 - val_loss: 0.4500 - val_mse: 0.4500\n",
      "Epoch 41/100\n",
      "60/60 [==============================] - 0s 4ms/step - loss: 0.0451 - mse: 0.0451 - val_loss: 0.6904 - val_mse: 0.6904\n",
      "Epoch 42/100\n",
      "60/60 [==============================] - 0s 3ms/step - loss: 0.0560 - mse: 0.0560 - val_loss: 1.0111 - val_mse: 1.0111\n",
      "Epoch 43/100\n",
      "60/60 [==============================] - 0s 3ms/step - loss: 0.0696 - mse: 0.0696 - val_loss: 0.5680 - val_mse: 0.5680\n",
      "Epoch 44/100\n",
      "60/60 [==============================] - 0s 3ms/step - loss: 0.0423 - mse: 0.0423 - val_loss: 0.8313 - val_mse: 0.8313\n",
      "Epoch 45/100\n",
      "60/60 [==============================] - 0s 3ms/step - loss: 0.0097 - mse: 0.0097 - val_loss: 1.3423 - val_mse: 1.3423\n",
      "Epoch 46/100\n",
      "60/60 [==============================] - 0s 4ms/step - loss: 0.0135 - mse: 0.0135 - val_loss: 0.9825 - val_mse: 0.9825\n",
      "Epoch 47/100\n",
      "60/60 [==============================] - 0s 3ms/step - loss: 0.0067 - mse: 0.0067 - val_loss: 0.7445 - val_mse: 0.7445\n",
      "Epoch 48/100\n",
      "60/60 [==============================] - 0s 3ms/step - loss: 0.0362 - mse: 0.0362 - val_loss: 1.1763 - val_mse: 1.1763\n",
      "Epoch 49/100\n",
      "60/60 [==============================] - 0s 3ms/step - loss: 0.0166 - mse: 0.0166 - val_loss: 1.2365 - val_mse: 1.2365\n",
      "Epoch 50/100\n",
      "60/60 [==============================] - 0s 3ms/step - loss: 0.0158 - mse: 0.0158 - val_loss: 1.3504 - val_mse: 1.3504\n",
      "Epoch 51/100\n",
      "60/60 [==============================] - 0s 4ms/step - loss: 0.0166 - mse: 0.0166 - val_loss: 0.7373 - val_mse: 0.7373\n",
      "Epoch 52/100\n",
      "60/60 [==============================] - 0s 3ms/step - loss: 0.0064 - mse: 0.0064 - val_loss: 0.9944 - val_mse: 0.9944\n",
      "Epoch 53/100\n",
      "60/60 [==============================] - 0s 3ms/step - loss: 0.0414 - mse: 0.0414 - val_loss: 2.2476 - val_mse: 2.2476\n",
      "Epoch 54/100\n",
      "60/60 [==============================] - 0s 4ms/step - loss: 9.0355 - mse: 9.0355 - val_loss: 6.4301 - val_mse: 6.4301\n",
      "Epoch 55/100\n",
      "60/60 [==============================] - 0s 3ms/step - loss: 3.3053 - mse: 3.3053 - val_loss: 0.1214 - val_mse: 0.1214\n",
      "Epoch 56/100\n",
      "60/60 [==============================] - 0s 4ms/step - loss: 14.4436 - mse: 14.4436 - val_loss: 4.2282 - val_mse: 4.2282\n",
      "Epoch 57/100\n",
      "60/60 [==============================] - 0s 3ms/step - loss: 4.9388 - mse: 4.9388 - val_loss: 1.7476 - val_mse: 1.7476\n",
      "Epoch 58/100\n",
      "60/60 [==============================] - 0s 3ms/step - loss: 4.2161 - mse: 4.2161 - val_loss: 5.6094 - val_mse: 5.6094\n",
      "Epoch 59/100\n",
      "60/60 [==============================] - 0s 3ms/step - loss: 1.7892 - mse: 1.7892 - val_loss: 0.0815 - val_mse: 0.0815\n",
      "Epoch 60/100\n",
      "60/60 [==============================] - 0s 3ms/step - loss: 2.8453 - mse: 2.8453 - val_loss: 0.2487 - val_mse: 0.2487\n",
      "Epoch 61/100\n",
      "60/60 [==============================] - 0s 4ms/step - loss: 0.0885 - mse: 0.0885 - val_loss: 0.5460 - val_mse: 0.5460\n",
      "Epoch 62/100\n",
      "60/60 [==============================] - 0s 3ms/step - loss: 0.1126 - mse: 0.1126 - val_loss: 1.3771 - val_mse: 1.3771\n"
     ]
    },
    {
     "name": "stdout",
     "output_type": "stream",
     "text": [
      "Epoch 63/100\n",
      "60/60 [==============================] - 0s 3ms/step - loss: 0.5025 - mse: 0.5025 - val_loss: 0.2076 - val_mse: 0.2076\n",
      "Epoch 64/100\n",
      "60/60 [==============================] - 0s 3ms/step - loss: 0.1718 - mse: 0.1718 - val_loss: 0.2737 - val_mse: 0.2737\n",
      "Epoch 65/100\n",
      "60/60 [==============================] - 0s 3ms/step - loss: 0.2274 - mse: 0.2274 - val_loss: 0.6037 - val_mse: 0.6037\n",
      "Epoch 66/100\n",
      "60/60 [==============================] - 0s 3ms/step - loss: 1.6220 - mse: 1.6220 - val_loss: 1.3771 - val_mse: 1.3771\n",
      "Epoch 67/100\n",
      "60/60 [==============================] - 0s 4ms/step - loss: 17.3351 - mse: 17.3351 - val_loss: 5.3820 - val_mse: 5.3820\n",
      "Epoch 68/100\n",
      "60/60 [==============================] - 0s 3ms/step - loss: 1.4029 - mse: 1.4029 - val_loss: 3.7853 - val_mse: 3.7853\n",
      "Epoch 69/100\n",
      "60/60 [==============================] - 0s 5ms/step - loss: 0.0668 - mse: 0.0668 - val_loss: 0.6008 - val_mse: 0.6008\n",
      "Epoch 70/100\n",
      "60/60 [==============================] - 0s 4ms/step - loss: 0.0034 - mse: 0.0034 - val_loss: 0.5209 - val_mse: 0.5209\n",
      "Epoch 71/100\n",
      "60/60 [==============================] - 0s 5ms/step - loss: 0.0127 - mse: 0.0127 - val_loss: 0.9504 - val_mse: 0.9504\n",
      "Epoch 72/100\n",
      "60/60 [==============================] - 0s 3ms/step - loss: 0.0045 - mse: 0.0045 - val_loss: 0.8755 - val_mse: 0.8755\n",
      "Epoch 73/100\n",
      "60/60 [==============================] - 0s 3ms/step - loss: 0.0862 - mse: 0.0862 - val_loss: 0.4658 - val_mse: 0.4658\n",
      "Epoch 74/100\n",
      "60/60 [==============================] - 0s 4ms/step - loss: 0.2791 - mse: 0.2791 - val_loss: 1.2911 - val_mse: 1.2911\n",
      "Epoch 75/100\n",
      "60/60 [==============================] - 0s 4ms/step - loss: 0.9458 - mse: 0.9458 - val_loss: 12.7998 - val_mse: 12.7998\n",
      "Epoch 76/100\n",
      "60/60 [==============================] - 0s 3ms/step - loss: 6.5984 - mse: 6.5984 - val_loss: 16.6665 - val_mse: 16.6665\n",
      "Epoch 77/100\n",
      "60/60 [==============================] - 0s 3ms/step - loss: 36.8590 - mse: 36.8590 - val_loss: 1.4208 - val_mse: 1.4208\n",
      "Epoch 78/100\n",
      "60/60 [==============================] - 0s 3ms/step - loss: 4.9320 - mse: 4.9320 - val_loss: 1.2843 - val_mse: 1.2843\n",
      "Epoch 79/100\n",
      "60/60 [==============================] - 0s 3ms/step - loss: 2.8837 - mse: 2.8837 - val_loss: 25.6118 - val_mse: 25.6118\n",
      "Epoch 80/100\n",
      "60/60 [==============================] - 0s 4ms/step - loss: 14.2233 - mse: 14.2233 - val_loss: 4.9803 - val_mse: 4.9803\n",
      "Epoch 81/100\n",
      "60/60 [==============================] - 0s 3ms/step - loss: 1.8853 - mse: 1.8853 - val_loss: 5.2611 - val_mse: 5.2611\n",
      "Epoch 82/100\n",
      "60/60 [==============================] - 0s 3ms/step - loss: 0.4418 - mse: 0.4418 - val_loss: 0.6729 - val_mse: 0.6729\n",
      "Epoch 83/100\n",
      "60/60 [==============================] - 0s 4ms/step - loss: 0.0100 - mse: 0.0100 - val_loss: 0.4136 - val_mse: 0.4136\n",
      "Epoch 84/100\n",
      "60/60 [==============================] - 0s 3ms/step - loss: 0.0579 - mse: 0.0579 - val_loss: 0.2361 - val_mse: 0.2361\n",
      "Epoch 85/100\n",
      "60/60 [==============================] - 0s 5ms/step - loss: 0.0336 - mse: 0.0336 - val_loss: 0.7133 - val_mse: 0.7133\n",
      "Epoch 86/100\n",
      "60/60 [==============================] - 0s 3ms/step - loss: 0.0230 - mse: 0.0230 - val_loss: 0.2345 - val_mse: 0.2345\n",
      "Epoch 87/100\n",
      "60/60 [==============================] - 0s 4ms/step - loss: 0.0756 - mse: 0.0756 - val_loss: 0.3278 - val_mse: 0.3278\n",
      "Epoch 88/100\n",
      "60/60 [==============================] - 0s 3ms/step - loss: 0.0352 - mse: 0.0352 - val_loss: 0.4343 - val_mse: 0.4343\n",
      "Epoch 89/100\n",
      "60/60 [==============================] - 0s 4ms/step - loss: 0.0121 - mse: 0.0121 - val_loss: 0.5441 - val_mse: 0.5441\n",
      "Epoch 90/100\n",
      "60/60 [==============================] - 0s 3ms/step - loss: 0.0250 - mse: 0.0250 - val_loss: 1.5640 - val_mse: 1.5640\n",
      "Epoch 91/100\n",
      "60/60 [==============================] - 0s 3ms/step - loss: 0.1158 - mse: 0.1158 - val_loss: 2.6956 - val_mse: 2.6956\n",
      "Epoch 92/100\n",
      "60/60 [==============================] - 0s 3ms/step - loss: 0.3637 - mse: 0.3637 - val_loss: 0.3819 - val_mse: 0.3819\n",
      "Epoch 93/100\n",
      "60/60 [==============================] - 0s 3ms/step - loss: 0.0288 - mse: 0.0288 - val_loss: 0.1591 - val_mse: 0.1591\n",
      "Epoch 94/100\n",
      "60/60 [==============================] - 0s 4ms/step - loss: 0.1437 - mse: 0.1437 - val_loss: 0.1418 - val_mse: 0.1418\n",
      "Epoch 95/100\n",
      "60/60 [==============================] - 0s 3ms/step - loss: 0.5190 - mse: 0.5190 - val_loss: 13.9106 - val_mse: 13.9106\n",
      "Epoch 96/100\n",
      "60/60 [==============================] - 0s 3ms/step - loss: 6.0268 - mse: 6.0268 - val_loss: 10.4051 - val_mse: 10.4051\n",
      "Epoch 97/100\n",
      "60/60 [==============================] - 0s 3ms/step - loss: 2.7026 - mse: 2.7026 - val_loss: 3.9973 - val_mse: 3.9973\n",
      "Epoch 98/100\n",
      "60/60 [==============================] - 0s 4ms/step - loss: 2.5397 - mse: 2.5397 - val_loss: 1.5781 - val_mse: 1.5781\n",
      "Epoch 99/100\n",
      "60/60 [==============================] - 0s 4ms/step - loss: 0.2676 - mse: 0.2676 - val_loss: 0.5895 - val_mse: 0.5895\n",
      "Epoch 100/100\n",
      "60/60 [==============================] - 0s 3ms/step - loss: 0.0230 - mse: 0.0230 - val_loss: 0.2798 - val_mse: 0.2798\n"
     ]
    },
    {
     "data": {
      "text/plain": [
       "<keras.callbacks.callbacks.History at 0x137743110>"
      ]
     },
     "execution_count": 14,
     "metadata": {},
     "output_type": "execute_result"
    }
   ],
   "source": [
    "model.compile(loss='mse',optimizer='adam',metrics=['mse']) \n",
    "model.fit([x1_train, x2_train], y_train, epochs=100, batch_size=1,validation_data=([x1_val,x2_val],y_val))"
   ]
  },
  {
   "cell_type": "code",
   "execution_count": 15,
   "metadata": {},
   "outputs": [
    {
     "name": "stdout",
     "output_type": "stream",
     "text": [
      "20/20 [==============================] - 0s 5ms/step\n",
      "mse =  [2.8754891633987425, 2.8754889965057373]\n"
     ]
    }
   ],
   "source": [
    "mse = model.evaluate([x1_test,x2_test],y_test,batch_size=1) \n",
    "print(\"mse = \",mse) "
   ]
  },
  {
   "cell_type": "code",
   "execution_count": 19,
   "metadata": {},
   "outputs": [
    {
     "name": "stdout",
     "output_type": "stream",
     "text": [
      "(None, 8)\n",
      "(None, 8)\n",
      "(None, 8)\n"
     ]
    }
   ],
   "source": [
    "# example of Add\n",
    "import keras\n",
    "from keras.layers import Input, Add, Dense\n",
    "\n",
    "input1 = Input(shape=(16,))\n",
    "x1 = Dense(8,activation='relu')(input1) \n",
    "print(x1.shape)\n",
    "input2 = Input(shape=(32,)) \n",
    "x2 = Dense(8,activation='relu')(input2)  \n",
    "print(x2.shape)\n",
    "added = Add()([x1,x2]) \n",
    "print(added.shape)\n",
    "out = Dense(4)(added) \n",
    "model = keras.models.Model(inputs=[input1,input2],outputs=out) "
   ]
  },
  {
   "cell_type": "code",
   "execution_count": 22,
   "metadata": {},
   "outputs": [],
   "source": [
    "import keras\n",
    "from keras.layers import Input, Add, Dense, Subtract\n",
    "\n",
    "input1 = Input(shape=(16,)) \n",
    "x1 = Dense(8,activation='relu')(input1) \n",
    "input2 = Input(shape=(32,)) \n",
    "x2 = Dense(8,activation='relu')(input2) \n",
    "subtracted = Subtract()([x1,x2])\n",
    "out = Dense(4)(subtracted) \n",
    "model = keras.models.Model(inputs=[input1,input2],outputs=out)"
   ]
  },
  {
   "cell_type": "code",
   "execution_count": null,
   "metadata": {},
   "outputs": [],
   "source": [
    "''' \n",
    "Other than those two, we also have the following \n",
    "1. keras.layers.Multiply() \n",
    "2. keras.layers.Average() \n",
    "3. keras.layers.Maximum() \n",
    "4. keras.layers.Minimum() \n",
    "5. keras.layers.Concatenate() \n",
    "6. keras.layers.Dot() \n",
    "\n",
    "and we have functional versions too \n",
    "1. keras.layers.add(inputs) \n",
    "2. keras.layers.subtract(inputs) \n",
    "etc etc \n",
    "\n",
    "\n",
    "'''"
   ]
  }
 ],
 "metadata": {
  "kernelspec": {
   "display_name": "Python 3",
   "language": "python",
   "name": "python3"
  },
  "language_info": {
   "codemirror_mode": {
    "name": "ipython",
    "version": 3
   },
   "file_extension": ".py",
   "mimetype": "text/x-python",
   "name": "python",
   "nbconvert_exporter": "python",
   "pygments_lexer": "ipython3",
   "version": "3.7.5"
  }
 },
 "nbformat": 4,
 "nbformat_minor": 4
}
